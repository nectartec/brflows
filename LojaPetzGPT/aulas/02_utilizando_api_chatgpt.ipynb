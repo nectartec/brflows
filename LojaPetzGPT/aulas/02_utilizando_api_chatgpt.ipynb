{
 "cells": [
  {
   "cell_type": "code",
   "execution_count": 1,
   "id": "15113a86",
   "metadata": {},
   "outputs": [],
   "source": [
    "import os\n",
    "\n",
    "import openai\n",
    "from dotenv import load_dotenv, find_dotenv\n",
    "_ = load_dotenv(find_dotenv())\n",
    "\n",
    "openai_key = os.getenv('OPENAI_API_KEY')"
   ]
  },
  {
   "attachments": {},
   "cell_type": "markdown",
   "id": "226a8971",
   "metadata": {},
   "source": [
    "### Função para retornar a mensagem do modelo"
   ]
  },
  {
   "cell_type": "code",
   "execution_count": 2,
   "id": "93deb395",
   "metadata": {},
   "outputs": [],
   "source": [
    "def retorna_resposta_modelo(mensagens,\n",
    "                            openai_key,\n",
    "                            modelo='gpt-3.5-turbo',\n",
    "                            temperatura=0,\n",
    "                            stream=False):\n",
    "    openai.api_key = openai_key\n",
    "    response = openai.ChatCompletion.create(\n",
    "        model=modelo,\n",
    "        messages=mensagens,\n",
    "        temperature=temperatura,\n",
    "        stream=stream\n",
    "    )\n",
    "    return response"
   ]
  },
  {
   "cell_type": "code",
   "execution_count": 3,
   "id": "36855933",
   "metadata": {},
   "outputs": [
    {
     "data": {
      "text/plain": [
       "<OpenAIObject chat.completion id=chatcmpl-8LcbVNQnMmy0p69xnWCojPmnX1000 at 0x7f3624f42750> JSON: {\n",
       "  \"id\": \"chatcmpl-8LcbVNQnMmy0p69xnWCojPmnX1000\",\n",
       "  \"object\": \"chat.completion\",\n",
       "  \"created\": 1700163973,\n",
       "  \"model\": \"gpt-3.5-turbo-0613\",\n",
       "  \"choices\": [\n",
       "    {\n",
       "      \"index\": 0,\n",
       "      \"message\": {\n",
       "        \"role\": \"assistant\",\n",
       "        \"content\": \"Fruta vermelha e suculenta.\"\n",
       "      },\n",
       "      \"finish_reason\": \"stop\"\n",
       "    }\n",
       "  ],\n",
       "  \"usage\": {\n",
       "    \"prompt_tokens\": 19,\n",
       "    \"completion_tokens\": 10,\n",
       "    \"total_tokens\": 29\n",
       "  }\n",
       "}"
      ]
     },
     "execution_count": 3,
     "metadata": {},
     "output_type": "execute_result"
    }
   ],
   "source": [
    "mensagens = [{'role': 'user', 'content': 'O que é uma maçã em cinco palavras?'}]\n",
    "resposta = retorna_resposta_modelo(mensagens, openai_key)\n",
    "resposta"
   ]
  },
  {
   "cell_type": "code",
   "execution_count": 4,
   "id": "ddcb759d",
   "metadata": {},
   "outputs": [
    {
     "data": {
      "text/plain": [
       "'Fruta vermelha e suculenta.'"
      ]
     },
     "execution_count": 4,
     "metadata": {},
     "output_type": "execute_result"
    }
   ],
   "source": [
    "resposta.choices[0]['message']['content']"
   ]
  },
  {
   "cell_type": "code",
   "execution_count": 5,
   "id": "8436d021",
   "metadata": {},
   "outputs": [
    {
     "data": {
      "text/plain": [
       "[{'role': 'user', 'content': 'O que é uma maçã em cinco palavras?'},\n",
       " {'role': 'assistant', 'content': 'Fruta vermelha e suculenta.'}]"
      ]
     },
     "execution_count": 5,
     "metadata": {},
     "output_type": "execute_result"
    }
   ],
   "source": [
    "mensagens.append({'role': 'assistant', 'content': resposta.choices[0]['message']['content']})\n",
    "mensagens"
   ]
  },
  {
   "cell_type": "code",
   "execution_count": 6,
   "id": "3db26cb3",
   "metadata": {},
   "outputs": [
    {
     "data": {
      "text/plain": [
       "[{'role': 'user', 'content': 'O que é uma maçã em cinco palavras?'},\n",
       " {'role': 'assistant', 'content': 'Fruta vermelha e suculenta.'},\n",
       " {'role': 'user', 'content': 'E qual é o seu tamanho?'}]"
      ]
     },
     "execution_count": 6,
     "metadata": {},
     "output_type": "execute_result"
    }
   ],
   "source": [
    "mensagens.append({'role': 'user', 'content': 'E qual é o seu tamanho?'})\n",
    "mensagens"
   ]
  },
  {
   "cell_type": "code",
   "execution_count": 7,
   "id": "5f0f9fcb",
   "metadata": {},
   "outputs": [
    {
     "data": {
      "text/plain": [
       "<OpenAIObject chat.completion id=chatcmpl-8Lcbke5sbaTKkhcYjD7ktzR2uFNnM at 0x7f3624f43590> JSON: {\n",
       "  \"id\": \"chatcmpl-8Lcbke5sbaTKkhcYjD7ktzR2uFNnM\",\n",
       "  \"object\": \"chat.completion\",\n",
       "  \"created\": 1700163988,\n",
       "  \"model\": \"gpt-3.5-turbo-0613\",\n",
       "  \"choices\": [\n",
       "    {\n",
       "      \"index\": 0,\n",
       "      \"message\": {\n",
       "        \"role\": \"assistant\",\n",
       "        \"content\": \"Pequena e redonda.\"\n",
       "      },\n",
       "      \"finish_reason\": \"stop\"\n",
       "    }\n",
       "  ],\n",
       "  \"usage\": {\n",
       "    \"prompt_tokens\": 44,\n",
       "    \"completion_tokens\": 7,\n",
       "    \"total_tokens\": 51\n",
       "  }\n",
       "}"
      ]
     },
     "execution_count": 7,
     "metadata": {},
     "output_type": "execute_result"
    }
   ],
   "source": [
    "resposta = retorna_resposta_modelo(mensagens, openai_key)\n",
    "resposta"
   ]
  },
  {
   "attachments": {},
   "cell_type": "markdown",
   "id": "37530759",
   "metadata": {},
   "source": [
    "### Recebendo uma strem de respostas"
   ]
  },
  {
   "cell_type": "code",
   "execution_count": 8,
   "id": "eaede626",
   "metadata": {},
   "outputs": [
    {
     "name": "stdout",
     "output_type": "stream",
     "text": [
      "Nova resposta >> \n",
      "Nova resposta >> Fr\n",
      "Nova resposta >> uta\n",
      "Nova resposta >>  ver\n",
      "Nova resposta >> mel\n",
      "Nova resposta >> ha\n",
      "Nova resposta >>  e\n",
      "Nova resposta >>  su\n",
      "Nova resposta >> cul\n",
      "Nova resposta >> enta\n",
      "Nova resposta >> .\n",
      "Nova resposta >> \n"
     ]
    }
   ],
   "source": [
    "mensagens = [{'role': 'user', 'content': 'O que é uma maçã em cinco palavras?'}]\n",
    "respostas = retorna_resposta_modelo(mensagens, openai_key, stream=True)\n",
    "for resposta in respostas:\n",
    "    print('Nova resposta >>', resposta.choices[0].delta.get('content', ''))"
   ]
  },
  {
   "cell_type": "code",
   "execution_count": null,
   "id": "c1b02fc1",
   "metadata": {},
   "outputs": [],
   "source": []
  }
 ],
 "metadata": {
  "kernelspec": {
   "display_name": "Python 3 (ipykernel)",
   "language": "python",
   "name": "python3"
  },
  "language_info": {
   "codemirror_mode": {
    "name": "ipython",
    "version": 3
   },
   "file_extension": ".py",
   "mimetype": "text/x-python",
   "name": "python",
   "nbconvert_exporter": "python",
   "pygments_lexer": "ipython3",
   "version": "3.11.3"
  }
 },
 "nbformat": 4,
 "nbformat_minor": 5
}
